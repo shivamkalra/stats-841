{
 "cells": [
  {
   "cell_type": "markdown",
   "metadata": {},
   "source": [
    "## Load the dataset"
   ]
  },
  {
   "cell_type": "code",
   "execution_count": 1,
   "metadata": {
    "collapsed": true
   },
   "outputs": [],
   "source": [
    "import numpy as np"
   ]
  },
  {
   "cell_type": "code",
   "execution_count": 11,
   "metadata": {
    "collapsed": true
   },
   "outputs": [],
   "source": [
    "dataset_path = '/home/ruifan/dataset/seizure/'"
   ]
  },
  {
   "cell_type": "code",
   "execution_count": 12,
   "metadata": {
    "collapsed": true
   },
   "outputs": [],
   "source": [
    "p1_train_path = dataset_path + 'p1train.npy'"
   ]
  },
  {
   "cell_type": "code",
   "execution_count": 13,
   "metadata": {
    "collapsed": true
   },
   "outputs": [],
   "source": [
    "p1_train = np.load(p1_train_path).item()"
   ]
  },
  {
   "cell_type": "code",
   "execution_count": 14,
   "metadata": {
    "collapsed": false
   },
   "outputs": [],
   "source": [
    "p1_filename = p1_train['file_name']\n",
    "p1_label = p1_train['target']\n",
    "p1_spec = p1_train['raw_spectrograms']"
   ]
  },
  {
   "cell_type": "code",
   "execution_count": 15,
   "metadata": {
    "collapsed": false
   },
   "outputs": [
    {
     "data": {
      "text/plain": [
       "['file_name', 'segment', 'target', 'raw_spectrograms']"
      ]
     },
     "execution_count": 15,
     "metadata": {},
     "output_type": "execute_result"
    }
   ],
   "source": [
    "p1_train.keys()"
   ]
  },
  {
   "cell_type": "markdown",
   "metadata": {},
   "source": [
    "## Load the safe label info"
   ]
  },
  {
   "cell_type": "code",
   "execution_count": 16,
   "metadata": {
    "collapsed": true
   },
   "outputs": [],
   "source": [
    "list_path = dataset_path + 'labels_safe.csv'"
   ]
  },
  {
   "cell_type": "code",
   "execution_count": 17,
   "metadata": {
    "collapsed": true
   },
   "outputs": [],
   "source": [
    "def generateSafeList(LIST_PATH):\n",
    "    import pandas as pd\n",
    "    df = pd.read_csv(dataset_path + 'labels_safe.csv')\n",
    "    df_safe = df[df['safe'] == 1]\n",
    "    return list(df_safe['image'])"
   ]
  },
  {
   "cell_type": "code",
   "execution_count": 18,
   "metadata": {
    "collapsed": false
   },
   "outputs": [],
   "source": [
    "safe_list = generateSafeList(list_path)\n",
    "trindx = [fn in safe_list for fn in p1_train['file_name']]\n",
    "safe_indx = np.where(trindx)"
   ]
  },
  {
   "cell_type": "code",
   "execution_count": 19,
   "metadata": {
    "collapsed": false
   },
   "outputs": [],
   "source": [
    "p1_label = p1_label[safe_indx]\n",
    "p1_spec = p1_spec[safe_indx]"
   ]
  },
  {
   "cell_type": "code",
   "execution_count": 20,
   "metadata": {
    "collapsed": false
   },
   "outputs": [
    {
     "data": {
      "text/plain": [
       "(720, 16, 6, 10)"
      ]
     },
     "execution_count": 20,
     "metadata": {},
     "output_type": "execute_result"
    }
   ],
   "source": [
    "p1_spec.shape"
   ]
  },
  {
   "cell_type": "code",
   "execution_count": 21,
   "metadata": {
    "collapsed": false
   },
   "outputs": [
    {
     "data": {
      "text/plain": [
       "(720,)"
      ]
     },
     "execution_count": 21,
     "metadata": {},
     "output_type": "execute_result"
    }
   ],
   "source": [
    "p1_label.shape"
   ]
  },
  {
   "cell_type": "code",
   "execution_count": 22,
   "metadata": {
    "collapsed": false
   },
   "outputs": [
    {
     "data": {
      "text/plain": [
       "(6, 10)"
      ]
     },
     "execution_count": 22,
     "metadata": {},
     "output_type": "execute_result"
    }
   ],
   "source": [
    "p1_spec[0][0].shape"
   ]
  },
  {
   "cell_type": "code",
   "execution_count": 38,
   "metadata": {
    "collapsed": false
   },
   "outputs": [],
   "source": [
    "import matplotlib.pyplot as plt\n",
    "import seaborn as sns\n",
    "%matplotlib inline\n",
    "sns.set_style('white')"
   ]
  },
  {
   "cell_type": "code",
   "execution_count": 24,
   "metadata": {
    "collapsed": false
   },
   "outputs": [],
   "source": [
    "pre_list = np.random.choice(np.where(p1_label == 0)[0], 1)[0]\n",
    "inter_list = np.random.choice(np.where(p1_label == 1)[0], 1)[0]"
   ]
  },
  {
   "cell_type": "code",
   "execution_count": 25,
   "metadata": {
    "collapsed": false
   },
   "outputs": [
    {
     "data": {
      "image/png": "[encoded data removed]",
      "text/plain": [
       "<matplotlib.figure.Figure at 0x7f53d2370990>"
      ]
     },
     "metadata": {},
     "output_type": "display_data"
    }
   ],
   "source": [
    "plt.figure(figsize=(10, 10))\n",
    "for i in range(0, 16):\n",
    "    plt.subplot(4, 4, i+1)\n",
    "    plt.imshow(p1_spec[pre_list][i], interpolation='None')\n",
    "    plt.axis('off')\n",
    "    "
   ]
  },
  {
   "cell_type": "markdown",
   "metadata": {},
   "source": [
    "## Start using CNN to train model"
   ]
  },
  {
   "cell_type": "code",
   "execution_count": 26,
   "metadata": {
    "collapsed": true
   },
   "outputs": [],
   "source": [
    "# input spectrogram dimensions\n",
    "img_rows, img_cols = 6, 10\n",
    "# the channels of EEG data\n",
    "img_channels = 16\n",
    "# number of convolutional filters to use\n",
    "nb_filters = 32\n",
    "# size of pooling area for max pooling\n",
    "pool_size = (2, 2)\n",
    "# convolution kernel size\n",
    "kernel_size = (3, 3)\n",
    "\n",
    "batch_size = 32\n",
    "nb_classes = 2\n",
    "nb_epoch = 200"
   ]
  },
  {
   "cell_type": "code",
   "execution_count": 27,
   "metadata": {
    "collapsed": false
   },
   "outputs": [
    {
     "name": "stderr",
     "output_type": "stream",
     "text": [
      "Using TensorFlow backend.\n"
     ]
    }
   ],
   "source": [
    "from __future__ import print_function\n",
    "from keras.preprocessing.image import ImageDataGenerator\n",
    "from keras.models import Sequential\n",
    "from keras.layers import Dense, Dropout, Activation, Flatten\n",
    "from keras.layers import Convolution2D, MaxPooling2D\n",
    "from keras.optimizers import SGD\n",
    "from keras.utils import np_utils"
   ]
  },
  {
   "cell_type": "code",
   "execution_count": 28,
   "metadata": {
    "collapsed": true
   },
   "outputs": [],
   "source": [
    "X = np.array([np.rot90(np.fliplr(np.rot90(i.T)), 2) for i in p1_spec])\n",
    "y = p1_label"
   ]
  },
  {
   "cell_type": "code",
   "execution_count": 29,
   "metadata": {
    "collapsed": false
   },
   "outputs": [],
   "source": [
    "from sklearn import cross_validation"
   ]
  },
  {
   "cell_type": "code",
   "execution_count": 30,
   "metadata": {
    "collapsed": false
   },
   "outputs": [],
   "source": [
    "X_train, X_test, y_train, y_test = cross_validation.train_test_split(X, y, test_size=0.3, random_state=841)"
   ]
  },
  {
   "cell_type": "code",
   "execution_count": 31,
   "metadata": {
    "collapsed": false
   },
   "outputs": [
    {
     "data": {
      "text/plain": [
       "(504, 6, 10, 16)"
      ]
     },
     "execution_count": 31,
     "metadata": {},
     "output_type": "execute_result"
    }
   ],
   "source": [
    "X_train.shape"
   ]
  },
  {
   "cell_type": "code",
   "execution_count": 32,
   "metadata": {
    "collapsed": false
   },
   "outputs": [
    {
     "data": {
      "text/plain": [
       "(504,)"
      ]
     },
     "execution_count": 32,
     "metadata": {},
     "output_type": "execute_result"
    }
   ],
   "source": [
    "y_train.shape"
   ]
  },
  {
   "cell_type": "code",
   "execution_count": 33,
   "metadata": {
    "collapsed": false
   },
   "outputs": [],
   "source": [
    "# convert class vectors to binary class matrices\n",
    "Y_train = np_utils.to_categorical(y_train, nb_classes)\n",
    "Y_test = np_utils.to_categorical(y_test, nb_classes)"
   ]
  },
  {
   "cell_type": "code",
   "execution_count": 34,
   "metadata": {
    "collapsed": false
   },
   "outputs": [],
   "source": [
    "from keras.callbacks import Callback\n",
    "\n",
    "class LossHistory(Callback):\n",
    "    def on_train_begin(self, logs={}):\n",
    "        self.losses = []\n",
    "\n",
    "    def on_batch_end(self, batch, logs={}):\n",
    "        self.losses.append(logs.get('loss'))"
   ]
  },
  {
   "cell_type": "code",
   "execution_count": 35,
   "metadata": {
    "collapsed": false,
    "scrolled": true
   },
   "outputs": [
    {
     "name": "stdout",
     "output_type": "stream",
     "text": [
      "Train on 504 samples, validate on 216 samples\n",
      "Epoch 1/200\n",
      "0s - loss: 0.6153 - acc: 0.7599 - val_loss: 0.4822 - val_acc: 0.8102\n",
      "Epoch 2/200\n",
      "0s - loss: 0.5248 - acc: 0.7837 - val_loss: 0.5063 - val_acc: 0.8102\n",
      "Epoch 3/200\n",
      "0s - loss: 0.5225 - acc: 0.7837 - val_loss: 0.4638 - val_acc: 0.8102\n",
      "Epoch 4/200\n",
      "0s - loss: 0.5218 - acc: 0.7837 - val_loss: 0.4892 - val_acc: 0.8102\n",
      "Epoch 5/200\n",
      "0s - loss: 0.5124 - acc: 0.7837 - val_loss: 0.4996 - val_acc: 0.8102\n",
      "Epoch 6/200\n",
      "0s - loss: 0.5222 - acc: 0.7837 - val_loss: 0.4617 - val_acc: 0.8102\n",
      "Epoch 7/200\n",
      "0s - loss: 0.5090 - acc: 0.7837 - val_loss: 0.4466 - val_acc: 0.8102\n",
      "Epoch 8/200\n",
      "0s - loss: 0.5061 - acc: 0.7837 - val_loss: 0.4507 - val_acc: 0.8102\n",
      "Epoch 9/200\n",
      "0s - loss: 0.4923 - acc: 0.7837 - val_loss: 0.4426 - val_acc: 0.8102\n",
      "Epoch 10/200\n",
      "0s - loss: 0.5012 - acc: 0.7837 - val_loss: 0.4330 - val_acc: 0.8102\n",
      "Epoch 11/200\n",
      "0s - loss: 0.4761 - acc: 0.7817 - val_loss: 0.4741 - val_acc: 0.8102\n",
      "Epoch 12/200\n",
      "0s - loss: 0.4901 - acc: 0.7817 - val_loss: 0.4390 - val_acc: 0.8102\n",
      "Epoch 13/200\n",
      "0s - loss: 0.4943 - acc: 0.7857 - val_loss: 0.4285 - val_acc: 0.8102\n",
      "Epoch 14/200\n",
      "0s - loss: 0.4730 - acc: 0.7798 - val_loss: 0.4325 - val_acc: 0.8102\n",
      "Epoch 15/200\n",
      "0s - loss: 0.4762 - acc: 0.7817 - val_loss: 0.4185 - val_acc: 0.8102\n",
      "Epoch 16/200\n",
      "0s - loss: 0.4598 - acc: 0.7857 - val_loss: 0.5083 - val_acc: 0.7824\n",
      "Epoch 17/200\n",
      "0s - loss: 0.4672 - acc: 0.7837 - val_loss: 0.4115 - val_acc: 0.8148\n",
      "Epoch 18/200\n",
      "0s - loss: 0.4651 - acc: 0.7877 - val_loss: 0.4232 - val_acc: 0.8056\n",
      "Epoch 19/200\n",
      "0s - loss: 0.4658 - acc: 0.7917 - val_loss: 0.4182 - val_acc: 0.8102\n",
      "Epoch 20/200\n",
      "0s - loss: 0.4744 - acc: 0.7917 - val_loss: 0.4112 - val_acc: 0.8102\n",
      "Epoch 21/200\n",
      "0s - loss: 0.4724 - acc: 0.7917 - val_loss: 0.4072 - val_acc: 0.8148\n",
      "Epoch 22/200\n",
      "0s - loss: 0.4404 - acc: 0.7956 - val_loss: 0.4127 - val_acc: 0.8102\n",
      "Epoch 23/200\n",
      "0s - loss: 0.4560 - acc: 0.7976 - val_loss: 0.4219 - val_acc: 0.8241\n",
      "Epoch 24/200\n",
      "0s - loss: 0.4554 - acc: 0.7996 - val_loss: 0.4027 - val_acc: 0.8102\n",
      "Epoch 25/200\n",
      "0s - loss: 0.4414 - acc: 0.8095 - val_loss: 0.4038 - val_acc: 0.8102\n",
      "Epoch 26/200\n",
      "0s - loss: 0.4355 - acc: 0.7897 - val_loss: 0.4073 - val_acc: 0.8056\n",
      "Epoch 27/200\n",
      "0s - loss: 0.4314 - acc: 0.8016 - val_loss: 0.4002 - val_acc: 0.8102\n",
      "Epoch 28/200\n",
      "0s - loss: 0.4274 - acc: 0.8115 - val_loss: 0.4058 - val_acc: 0.7963\n",
      "Epoch 29/200\n",
      "0s - loss: 0.4303 - acc: 0.8115 - val_loss: 0.4018 - val_acc: 0.8102\n",
      "Epoch 30/200\n",
      "0s - loss: 0.4160 - acc: 0.8075 - val_loss: 0.4180 - val_acc: 0.7870\n",
      "Epoch 31/200\n",
      "0s - loss: 0.4278 - acc: 0.8036 - val_loss: 0.4010 - val_acc: 0.8056\n",
      "Epoch 32/200\n",
      "0s - loss: 0.4130 - acc: 0.8155 - val_loss: 0.3947 - val_acc: 0.8194\n",
      "Epoch 33/200\n",
      "0s - loss: 0.4326 - acc: 0.7956 - val_loss: 0.3917 - val_acc: 0.8148\n",
      "Epoch 34/200\n",
      "0s - loss: 0.4180 - acc: 0.8056 - val_loss: 0.4221 - val_acc: 0.8056\n",
      "Epoch 35/200\n",
      "0s - loss: 0.4022 - acc: 0.8036 - val_loss: 0.3929 - val_acc: 0.8056\n",
      "Epoch 36/200\n",
      "0s - loss: 0.4069 - acc: 0.7917 - val_loss: 0.3878 - val_acc: 0.8241\n",
      "Epoch 37/200\n",
      "0s - loss: 0.4070 - acc: 0.8135 - val_loss: 0.3826 - val_acc: 0.8194\n",
      "Epoch 38/200\n",
      "0s - loss: 0.3946 - acc: 0.8075 - val_loss: 0.3984 - val_acc: 0.8102\n",
      "Epoch 39/200\n",
      "0s - loss: 0.4033 - acc: 0.8115 - val_loss: 0.3930 - val_acc: 0.8056\n",
      "Epoch 40/200\n",
      "0s - loss: 0.4013 - acc: 0.8115 - val_loss: 0.4004 - val_acc: 0.7917\n",
      "Epoch 41/200\n",
      "0s - loss: 0.3947 - acc: 0.8095 - val_loss: 0.3918 - val_acc: 0.8009\n",
      "Epoch 42/200\n",
      "0s - loss: 0.3762 - acc: 0.8194 - val_loss: 0.3912 - val_acc: 0.8241\n",
      "Epoch 43/200\n",
      "0s - loss: 0.3949 - acc: 0.8056 - val_loss: 0.3907 - val_acc: 0.8148\n",
      "Epoch 44/200\n",
      "0s - loss: 0.3779 - acc: 0.8254 - val_loss: 0.3866 - val_acc: 0.8148\n",
      "Epoch 45/200\n",
      "0s - loss: 0.3689 - acc: 0.8254 - val_loss: 0.4254 - val_acc: 0.7778\n",
      "Epoch 46/200\n",
      "0s - loss: 0.3748 - acc: 0.8254 - val_loss: 0.3860 - val_acc: 0.7917\n",
      "Epoch 47/200\n",
      "0s - loss: 0.3733 - acc: 0.8194 - val_loss: 0.3831 - val_acc: 0.8102\n",
      "Epoch 48/200\n",
      "0s - loss: 0.3918 - acc: 0.8095 - val_loss: 0.3831 - val_acc: 0.8102\n",
      "Epoch 49/200\n",
      "0s - loss: 0.3864 - acc: 0.8194 - val_loss: 0.3944 - val_acc: 0.7963\n",
      "Epoch 50/200\n",
      "0s - loss: 0.3593 - acc: 0.8333 - val_loss: 0.4073 - val_acc: 0.7917\n",
      "Epoch 51/200\n",
      "0s - loss: 0.3551 - acc: 0.8393 - val_loss: 0.3945 - val_acc: 0.7917\n",
      "Epoch 52/200\n",
      "0s - loss: 0.3604 - acc: 0.8095 - val_loss: 0.3939 - val_acc: 0.8148\n",
      "Epoch 53/200\n",
      "0s - loss: 0.3730 - acc: 0.8194 - val_loss: 0.3773 - val_acc: 0.8056\n",
      "Epoch 54/200\n",
      "0s - loss: 0.3554 - acc: 0.8194 - val_loss: 0.3847 - val_acc: 0.8148\n",
      "Epoch 55/200\n",
      "0s - loss: 0.3669 - acc: 0.8294 - val_loss: 0.3890 - val_acc: 0.8009\n",
      "Epoch 56/200\n",
      "0s - loss: 0.3536 - acc: 0.8433 - val_loss: 0.3834 - val_acc: 0.8102\n",
      "Epoch 57/200\n",
      "0s - loss: 0.3507 - acc: 0.8472 - val_loss: 0.3867 - val_acc: 0.8102\n",
      "Epoch 58/200\n",
      "0s - loss: 0.3434 - acc: 0.8393 - val_loss: 0.3790 - val_acc: 0.8148\n",
      "Epoch 59/200\n",
      "0s - loss: 0.3532 - acc: 0.8492 - val_loss: 0.3802 - val_acc: 0.8009\n",
      "Epoch 60/200\n",
      "0s - loss: 0.3477 - acc: 0.8393 - val_loss: 0.3792 - val_acc: 0.8009\n",
      "Epoch 61/200\n",
      "0s - loss: 0.3453 - acc: 0.8472 - val_loss: 0.3774 - val_acc: 0.8102\n",
      "Epoch 62/200\n",
      "0s - loss: 0.3363 - acc: 0.8393 - val_loss: 0.3848 - val_acc: 0.8056\n",
      "Epoch 63/200\n",
      "0s - loss: 0.3356 - acc: 0.8452 - val_loss: 0.3931 - val_acc: 0.8056\n",
      "Epoch 64/200\n",
      "0s - loss: 0.3295 - acc: 0.8512 - val_loss: 0.3941 - val_acc: 0.8009\n",
      "Epoch 65/200\n",
      "0s - loss: 0.3322 - acc: 0.8591 - val_loss: 0.3818 - val_acc: 0.8056\n",
      "Epoch 66/200\n",
      "0s - loss: 0.3275 - acc: 0.8512 - val_loss: 0.3808 - val_acc: 0.7963\n",
      "Epoch 67/200\n",
      "0s - loss: 0.3218 - acc: 0.8492 - val_loss: 0.3870 - val_acc: 0.8009\n",
      "Epoch 68/200\n",
      "0s - loss: 0.3203 - acc: 0.8611 - val_loss: 0.4348 - val_acc: 0.7731\n",
      "Epoch 69/200\n",
      "0s - loss: 0.3150 - acc: 0.8690 - val_loss: 0.4030 - val_acc: 0.8287\n",
      "Epoch 70/200\n",
      "0s - loss: 0.3204 - acc: 0.8512 - val_loss: 0.3858 - val_acc: 0.8009\n",
      "Epoch 71/200\n",
      "0s - loss: 0.2998 - acc: 0.8810 - val_loss: 0.3869 - val_acc: 0.8056\n",
      "Epoch 72/200\n",
      "0s - loss: 0.3080 - acc: 0.8571 - val_loss: 0.3853 - val_acc: 0.8056\n",
      "Epoch 73/200\n",
      "0s - loss: 0.3137 - acc: 0.8571 - val_loss: 0.3957 - val_acc: 0.8148\n",
      "Epoch 74/200\n",
      "0s - loss: 0.3275 - acc: 0.8651 - val_loss: 0.3845 - val_acc: 0.8009\n",
      "Epoch 75/200\n",
      "0s - loss: 0.2982 - acc: 0.8869 - val_loss: 0.3920 - val_acc: 0.8009\n",
      "Epoch 76/200\n",
      "0s - loss: 0.2899 - acc: 0.8869 - val_loss: 0.3821 - val_acc: 0.8056\n",
      "Epoch 77/200\n",
      "0s - loss: 0.2964 - acc: 0.8790 - val_loss: 0.3926 - val_acc: 0.8056\n",
      "Epoch 78/200\n",
      "0s - loss: 0.2823 - acc: 0.8790 - val_loss: 0.4002 - val_acc: 0.8009\n",
      "Epoch 79/200\n",
      "0s - loss: 0.3070 - acc: 0.8750 - val_loss: 0.4089 - val_acc: 0.8102\n",
      "Epoch 80/200\n",
      "0s - loss: 0.2962 - acc: 0.8810 - val_loss: 0.3951 - val_acc: 0.8009\n",
      "Epoch 81/200\n",
      "0s - loss: 0.2942 - acc: 0.8671 - val_loss: 0.4009 - val_acc: 0.8056\n",
      "Epoch 82/200\n",
      "0s - loss: 0.2937 - acc: 0.8869 - val_loss: 0.3913 - val_acc: 0.7963\n",
      "Epoch 83/200\n",
      "0s - loss: 0.2605 - acc: 0.8968 - val_loss: 0.3997 - val_acc: 0.7963\n",
      "Epoch 84/200\n",
      "0s - loss: 0.2937 - acc: 0.8889 - val_loss: 0.4166 - val_acc: 0.7870\n",
      "Epoch 85/200\n",
      "0s - loss: 0.2797 - acc: 0.8889 - val_loss: 0.3935 - val_acc: 0.7963\n",
      "Epoch 86/200\n",
      "0s - loss: 0.2600 - acc: 0.9008 - val_loss: 0.4166 - val_acc: 0.8056\n",
      "Epoch 87/200\n",
      "0s - loss: 0.2613 - acc: 0.9008 - val_loss: 0.4172 - val_acc: 0.7963\n",
      "Epoch 88/200\n",
      "0s - loss: 0.2657 - acc: 0.8968 - val_loss: 0.4324 - val_acc: 0.8241\n",
      "Epoch 89/200\n",
      "0s - loss: 0.2708 - acc: 0.8988 - val_loss: 0.4057 - val_acc: 0.7963\n",
      "Epoch 90/200\n",
      "0s - loss: 0.2727 - acc: 0.9008 - val_loss: 0.4044 - val_acc: 0.8056\n",
      "Epoch 91/200\n",
      "0s - loss: 0.2615 - acc: 0.8790 - val_loss: 0.4082 - val_acc: 0.8056\n",
      "Epoch 92/200\n",
      "0s - loss: 0.2546 - acc: 0.8968 - val_loss: 0.4323 - val_acc: 0.8056\n",
      "Epoch 93/200\n",
      "0s - loss: 0.2522 - acc: 0.9028 - val_loss: 0.4519 - val_acc: 0.8102\n",
      "Epoch 94/200\n",
      "0s - loss: 0.2553 - acc: 0.8889 - val_loss: 0.4230 - val_acc: 0.8056\n",
      "Epoch 95/200\n",
      "0s - loss: 0.2568 - acc: 0.8829 - val_loss: 0.4196 - val_acc: 0.8056\n",
      "Epoch 96/200\n",
      "0s - loss: 0.2431 - acc: 0.9028 - val_loss: 0.4210 - val_acc: 0.7963\n",
      "Epoch 97/200\n",
      "0s - loss: 0.2544 - acc: 0.8988 - val_loss: 0.4546 - val_acc: 0.8194\n",
      "Epoch 98/200\n",
      "0s - loss: 0.2554 - acc: 0.9028 - val_loss: 0.4562 - val_acc: 0.8194\n",
      "Epoch 99/200\n",
      "0s - loss: 0.2547 - acc: 0.8948 - val_loss: 0.4318 - val_acc: 0.8009\n",
      "Epoch 100/200\n",
      "0s - loss: 0.2346 - acc: 0.9187 - val_loss: 0.4400 - val_acc: 0.8056\n",
      "Epoch 101/200\n",
      "0s - loss: 0.2256 - acc: 0.9028 - val_loss: 0.4371 - val_acc: 0.8102\n",
      "Epoch 102/200\n",
      "0s - loss: 0.2168 - acc: 0.9206 - val_loss: 0.4256 - val_acc: 0.8102\n",
      "Epoch 103/200\n",
      "0s - loss: 0.2188 - acc: 0.9107 - val_loss: 0.4954 - val_acc: 0.8194\n",
      "Epoch 104/200\n",
      "0s - loss: 0.2413 - acc: 0.9087 - val_loss: 0.4656 - val_acc: 0.8148\n",
      "Epoch 105/200\n",
      "0s - loss: 0.2373 - acc: 0.9028 - val_loss: 0.4335 - val_acc: 0.8056\n",
      "Epoch 106/200\n",
      "0s - loss: 0.2116 - acc: 0.9226 - val_loss: 0.4524 - val_acc: 0.8102\n",
      "Epoch 107/200\n",
      "0s - loss: 0.2383 - acc: 0.9048 - val_loss: 0.4360 - val_acc: 0.8056\n",
      "Epoch 108/200\n",
      "0s - loss: 0.2081 - acc: 0.9206 - val_loss: 0.4721 - val_acc: 0.8148\n",
      "Epoch 109/200\n",
      "0s - loss: 0.2171 - acc: 0.9147 - val_loss: 0.4653 - val_acc: 0.8148\n",
      "Epoch 110/200\n",
      "0s - loss: 0.2038 - acc: 0.9286 - val_loss: 0.4523 - val_acc: 0.8102\n",
      "Epoch 111/200\n",
      "0s - loss: 0.1884 - acc: 0.9226 - val_loss: 0.4407 - val_acc: 0.8102\n",
      "Epoch 112/200\n",
      "0s - loss: 0.2097 - acc: 0.9187 - val_loss: 0.4602 - val_acc: 0.7917\n",
      "Epoch 113/200\n",
      "0s - loss: 0.2075 - acc: 0.9127 - val_loss: 0.4763 - val_acc: 0.8009\n",
      "Epoch 114/200\n",
      "0s - loss: 0.1943 - acc: 0.9187 - val_loss: 0.4754 - val_acc: 0.7917\n",
      "Epoch 115/200\n",
      "0s - loss: 0.1906 - acc: 0.9147 - val_loss: 0.4654 - val_acc: 0.7963\n",
      "Epoch 116/200\n",
      "0s - loss: 0.1954 - acc: 0.9246 - val_loss: 0.5034 - val_acc: 0.8241\n",
      "Epoch 117/200\n",
      "0s - loss: 0.2069 - acc: 0.9167 - val_loss: 0.4729 - val_acc: 0.8148\n",
      "Epoch 118/200\n",
      "0s - loss: 0.1784 - acc: 0.9206 - val_loss: 0.5358 - val_acc: 0.8194\n",
      "Epoch 119/200\n",
      "0s - loss: 0.1895 - acc: 0.9385 - val_loss: 0.4987 - val_acc: 0.8194\n",
      "Epoch 120/200\n",
      "0s - loss: 0.1772 - acc: 0.9365 - val_loss: 0.5718 - val_acc: 0.8241\n",
      "Epoch 121/200\n",
      "0s - loss: 0.1923 - acc: 0.9187 - val_loss: 0.5409 - val_acc: 0.8194\n",
      "Epoch 122/200\n",
      "0s - loss: 0.1870 - acc: 0.9226 - val_loss: 0.5355 - val_acc: 0.8194\n",
      "Epoch 123/200\n",
      "0s - loss: 0.1893 - acc: 0.9365 - val_loss: 0.4914 - val_acc: 0.8102\n",
      "Epoch 124/200\n",
      "0s - loss: 0.2137 - acc: 0.9107 - val_loss: 0.5220 - val_acc: 0.8148\n",
      "Epoch 125/200\n",
      "0s - loss: 0.1687 - acc: 0.9286 - val_loss: 0.4844 - val_acc: 0.8009\n",
      "Epoch 126/200\n",
      "0s - loss: 0.1786 - acc: 0.9345 - val_loss: 0.4815 - val_acc: 0.7963\n",
      "Epoch 127/200\n",
      "0s - loss: 0.1696 - acc: 0.9345 - val_loss: 0.4889 - val_acc: 0.8102\n",
      "Epoch 128/200\n",
      "0s - loss: 0.1570 - acc: 0.9365 - val_loss: 0.5018 - val_acc: 0.8009\n",
      "Epoch 129/200\n",
      "0s - loss: 0.1644 - acc: 0.9385 - val_loss: 0.5050 - val_acc: 0.8102\n",
      "Epoch 130/200\n",
      "0s - loss: 0.1738 - acc: 0.9286 - val_loss: 0.4988 - val_acc: 0.8056\n",
      "Epoch 131/200\n",
      "0s - loss: 0.1545 - acc: 0.9365 - val_loss: 0.4907 - val_acc: 0.7917\n",
      "Epoch 132/200\n",
      "0s - loss: 0.1545 - acc: 0.9425 - val_loss: 0.5033 - val_acc: 0.8056\n",
      "Epoch 133/200\n",
      "0s - loss: 0.1693 - acc: 0.9365 - val_loss: 0.5536 - val_acc: 0.8148\n",
      "Epoch 134/200\n",
      "0s - loss: 0.1542 - acc: 0.9365 - val_loss: 0.5269 - val_acc: 0.8241\n",
      "Epoch 135/200\n",
      "0s - loss: 0.1529 - acc: 0.9444 - val_loss: 0.5391 - val_acc: 0.8102\n",
      "Epoch 136/200\n",
      "0s - loss: 0.1594 - acc: 0.9444 - val_loss: 0.5112 - val_acc: 0.8056\n",
      "Epoch 137/200\n",
      "0s - loss: 0.1769 - acc: 0.9266 - val_loss: 0.5119 - val_acc: 0.8102\n",
      "Epoch 138/200\n",
      "0s - loss: 0.1519 - acc: 0.9444 - val_loss: 0.5233 - val_acc: 0.7824\n",
      "Epoch 139/200\n",
      "0s - loss: 0.1401 - acc: 0.9504 - val_loss: 0.5279 - val_acc: 0.8056\n",
      "Epoch 140/200\n",
      "0s - loss: 0.1442 - acc: 0.9504 - val_loss: 0.5345 - val_acc: 0.8194\n",
      "Epoch 141/200\n",
      "0s - loss: 0.1565 - acc: 0.9365 - val_loss: 0.5177 - val_acc: 0.8056\n",
      "Epoch 142/200\n",
      "0s - loss: 0.1360 - acc: 0.9444 - val_loss: 0.5523 - val_acc: 0.8102\n",
      "Epoch 143/200\n",
      "0s - loss: 0.1235 - acc: 0.9544 - val_loss: 0.5545 - val_acc: 0.8148\n",
      "Epoch 144/200\n",
      "0s - loss: 0.1344 - acc: 0.9484 - val_loss: 0.5260 - val_acc: 0.8102\n",
      "Epoch 145/200\n",
      "0s - loss: 0.1296 - acc: 0.9504 - val_loss: 0.6189 - val_acc: 0.8194\n",
      "Epoch 146/200\n",
      "0s - loss: 0.1255 - acc: 0.9563 - val_loss: 0.5649 - val_acc: 0.8148\n",
      "Epoch 147/200\n",
      "0s - loss: 0.1413 - acc: 0.9425 - val_loss: 0.5788 - val_acc: 0.8287\n",
      "Epoch 148/200\n",
      "0s - loss: 0.1400 - acc: 0.9425 - val_loss: 0.5543 - val_acc: 0.8102\n",
      "Epoch 149/200\n",
      "0s - loss: 0.1226 - acc: 0.9544 - val_loss: 0.5981 - val_acc: 0.8148\n",
      "Epoch 150/200\n",
      "0s - loss: 0.1202 - acc: 0.9544 - val_loss: 0.5694 - val_acc: 0.8102\n",
      "Epoch 151/200\n",
      "0s - loss: 0.1202 - acc: 0.9544 - val_loss: 0.6040 - val_acc: 0.8194\n",
      "Epoch 152/200\n",
      "0s - loss: 0.1127 - acc: 0.9544 - val_loss: 0.5990 - val_acc: 0.8148\n",
      "Epoch 153/200\n",
      "0s - loss: 0.1153 - acc: 0.9524 - val_loss: 0.5976 - val_acc: 0.8333\n",
      "Epoch 154/200\n",
      "0s - loss: 0.1236 - acc: 0.9484 - val_loss: 0.6039 - val_acc: 0.8056\n",
      "Epoch 155/200\n",
      "0s - loss: 0.1160 - acc: 0.9583 - val_loss: 0.5813 - val_acc: 0.8056\n",
      "Epoch 156/200\n",
      "0s - loss: 0.1209 - acc: 0.9464 - val_loss: 0.6106 - val_acc: 0.7593\n",
      "Epoch 157/200\n",
      "0s - loss: 0.0970 - acc: 0.9663 - val_loss: 0.5853 - val_acc: 0.7870\n",
      "Epoch 158/200\n",
      "0s - loss: 0.1054 - acc: 0.9643 - val_loss: 0.6376 - val_acc: 0.8241\n",
      "Epoch 159/200\n",
      "0s - loss: 0.1070 - acc: 0.9663 - val_loss: 0.6075 - val_acc: 0.7917\n",
      "Epoch 160/200\n",
      "0s - loss: 0.1113 - acc: 0.9623 - val_loss: 0.6191 - val_acc: 0.8194\n",
      "Epoch 161/200\n",
      "0s - loss: 0.1116 - acc: 0.9623 - val_loss: 0.6276 - val_acc: 0.8148\n",
      "Epoch 162/200\n",
      "0s - loss: 0.1055 - acc: 0.9623 - val_loss: 0.5818 - val_acc: 0.7963\n",
      "Epoch 163/200\n",
      "0s - loss: 0.1078 - acc: 0.9563 - val_loss: 0.6246 - val_acc: 0.8194\n",
      "Epoch 164/200\n",
      "0s - loss: 0.0948 - acc: 0.9702 - val_loss: 0.6212 - val_acc: 0.8194\n",
      "Epoch 165/200\n",
      "0s - loss: 0.0937 - acc: 0.9683 - val_loss: 0.6519 - val_acc: 0.8380\n",
      "Epoch 166/200\n",
      "0s - loss: 0.0924 - acc: 0.9643 - val_loss: 0.6051 - val_acc: 0.8102\n",
      "Epoch 167/200\n",
      "0s - loss: 0.0913 - acc: 0.9742 - val_loss: 0.6387 - val_acc: 0.8194\n",
      "Epoch 168/200\n",
      "0s - loss: 0.0925 - acc: 0.9603 - val_loss: 0.6089 - val_acc: 0.7870\n",
      "Epoch 169/200\n",
      "0s - loss: 0.0955 - acc: 0.9663 - val_loss: 0.6468 - val_acc: 0.8194\n",
      "Epoch 170/200\n",
      "0s - loss: 0.0856 - acc: 0.9702 - val_loss: 0.7116 - val_acc: 0.8287\n",
      "Epoch 171/200\n",
      "0s - loss: 0.1048 - acc: 0.9663 - val_loss: 0.6166 - val_acc: 0.8194\n",
      "Epoch 172/200\n",
      "0s - loss: 0.0859 - acc: 0.9663 - val_loss: 0.6599 - val_acc: 0.8194\n",
      "Epoch 173/200\n",
      "0s - loss: 0.0901 - acc: 0.9643 - val_loss: 0.6694 - val_acc: 0.8194\n",
      "Epoch 174/200\n",
      "0s - loss: 0.0688 - acc: 0.9782 - val_loss: 0.7064 - val_acc: 0.8333\n",
      "Epoch 175/200\n",
      "0s - loss: 0.0903 - acc: 0.9663 - val_loss: 0.6335 - val_acc: 0.8241\n",
      "Epoch 176/200\n",
      "0s - loss: 0.0842 - acc: 0.9683 - val_loss: 0.6583 - val_acc: 0.8241\n",
      "Epoch 177/200\n",
      "0s - loss: 0.0866 - acc: 0.9702 - val_loss: 0.6568 - val_acc: 0.7917\n",
      "Epoch 178/200\n",
      "0s - loss: 0.0932 - acc: 0.9663 - val_loss: 0.6544 - val_acc: 0.8056\n",
      "Epoch 179/200\n",
      "0s - loss: 0.0922 - acc: 0.9663 - val_loss: 0.6341 - val_acc: 0.8194\n",
      "Epoch 180/200\n",
      "0s - loss: 0.0773 - acc: 0.9722 - val_loss: 0.6926 - val_acc: 0.8333\n",
      "Epoch 181/200\n",
      "0s - loss: 0.0710 - acc: 0.9782 - val_loss: 0.7302 - val_acc: 0.8287\n",
      "Epoch 182/200\n",
      "0s - loss: 0.0727 - acc: 0.9802 - val_loss: 0.6805 - val_acc: 0.8194\n",
      "Epoch 183/200\n",
      "0s - loss: 0.0727 - acc: 0.9702 - val_loss: 0.6876 - val_acc: 0.8056\n",
      "Epoch 184/200\n",
      "0s - loss: 0.0748 - acc: 0.9702 - val_loss: 0.7024 - val_acc: 0.8009\n",
      "Epoch 185/200\n",
      "0s - loss: 0.0699 - acc: 0.9782 - val_loss: 0.7001 - val_acc: 0.8194\n",
      "Epoch 186/200\n",
      "0s - loss: 0.0674 - acc: 0.9742 - val_loss: 0.6863 - val_acc: 0.7963\n",
      "Epoch 187/200\n",
      "0s - loss: 0.0658 - acc: 0.9762 - val_loss: 0.7060 - val_acc: 0.8194\n",
      "Epoch 188/200\n",
      "0s - loss: 0.0774 - acc: 0.9742 - val_loss: 0.6923 - val_acc: 0.8102\n",
      "Epoch 189/200\n",
      "0s - loss: 0.0579 - acc: 0.9802 - val_loss: 0.7275 - val_acc: 0.8241\n",
      "Epoch 190/200\n",
      "0s - loss: 0.0653 - acc: 0.9742 - val_loss: 0.7048 - val_acc: 0.8241\n",
      "Epoch 191/200\n",
      "0s - loss: 0.0636 - acc: 0.9722 - val_loss: 0.7800 - val_acc: 0.8426\n",
      "Epoch 192/200\n",
      "0s - loss: 0.0594 - acc: 0.9802 - val_loss: 0.7246 - val_acc: 0.8287\n",
      "Epoch 193/200\n",
      "0s - loss: 0.0692 - acc: 0.9821 - val_loss: 0.8888 - val_acc: 0.8426\n",
      "Epoch 194/200\n",
      "0s - loss: 0.0641 - acc: 0.9802 - val_loss: 0.7477 - val_acc: 0.8333\n",
      "Epoch 195/200\n",
      "0s - loss: 0.0553 - acc: 0.9802 - val_loss: 0.8260 - val_acc: 0.8380\n",
      "Epoch 196/200\n",
      "0s - loss: 0.0780 - acc: 0.9663 - val_loss: 0.7483 - val_acc: 0.7963\n",
      "Epoch 197/200\n",
      "0s - loss: 0.0575 - acc: 0.9762 - val_loss: 0.7514 - val_acc: 0.8194\n",
      "Epoch 198/200\n",
      "0s - loss: 0.0574 - acc: 0.9802 - val_loss: 0.7446 - val_acc: 0.8102\n",
      "Epoch 199/200\n",
      "0s - loss: 0.0523 - acc: 0.9821 - val_loss: 0.7698 - val_acc: 0.8056\n",
      "Epoch 200/200\n",
      "0s - loss: 0.0607 - acc: 0.9762 - val_loss: 0.8771 - val_acc: 0.7361\n"
     ]
    },
    {
     "data": {
      "text/plain": [
       "<keras.callbacks.History at 0x7f5384472450>"
      ]
     },
     "execution_count": 35,
     "metadata": {},
     "output_type": "execute_result"
    }
   ],
   "source": [
    "model = Sequential()\n",
    "\n",
    "model.add(Convolution2D(nb_filters, kernel_size[0], kernel_size[1],\n",
    "                        border_mode='valid',\n",
    "                        input_shape=X_train.shape[1:]))\n",
    "model.add(Activation('relu'))\n",
    "model.add(Convolution2D(nb_filters, kernel_size[0], kernel_size[1]))\n",
    "model.add(Activation('relu'))\n",
    "model.add(MaxPooling2D(pool_size=pool_size))\n",
    "model.add(Dropout(0.25))\n",
    "\n",
    "model.add(Flatten())\n",
    "model.add(Dense(128))\n",
    "model.add(Activation('relu'))\n",
    "model.add(Dropout(0.5))\n",
    "model.add(Dense(nb_classes))\n",
    "model.add(Activation('softmax'))\n",
    "\n",
    "model.compile(loss='categorical_crossentropy',\n",
    "              optimizer='adadelta',\n",
    "              metrics=['accuracy'])\n",
    "\n",
    "history = LossHistory()\n",
    "model.fit(X_train, Y_train, batch_size=batch_size, nb_epoch=nb_epoch,\n",
    "          verbose=2, shuffle=True, callbacks=[history], validation_data=(X_test, Y_test))"
   ]
  },
  {
   "cell_type": "code",
   "execution_count": 39,
   "metadata": {
    "collapsed": false
   },
   "outputs": [
    {
     "data": {
      "text/plain": [
       "[<matplotlib.lines.Line2D at 0x7f535c08f590>]"
      ]
     },
     "execution_count": 39,
     "metadata": {},
     "output_type": "execute_result"
    },
    {
     "data": {
      "image/png": "[encoded data removed]",
      "text/plain": [
       "<matplotlib.figure.Figure at 0x7f5364087f10>"
      ]
     },
     "metadata": {},
     "output_type": "display_data"
    }
   ],
   "source": [
    "plt.plot(history.losses)"
   ]
  },
  {
   "cell_type": "code",
   "execution_count": 40,
   "metadata": {
    "collapsed": false
   },
   "outputs": [],
   "source": [
    "prediction_path = dataset_path + 'p1test.npy'\n",
    "p1_predict = np.load(prediction_path).item()"
   ]
  },
  {
   "cell_type": "code",
   "execution_count": 41,
   "metadata": {
    "collapsed": false
   },
   "outputs": [],
   "source": [
    "p1_pred_filename = p1_predict['file_name']\n",
    "p1_pred_spec = p1_predict['raw_spectrograms']"
   ]
  },
  {
   "cell_type": "code",
   "execution_count": 42,
   "metadata": {
    "collapsed": false
   },
   "outputs": [],
   "source": [
    "X_pred = np.array([np.rot90(np.fliplr(np.rot90(i.T)), 2) for i in p1_pred_spec])"
   ]
  },
  {
   "cell_type": "code",
   "execution_count": 44,
   "metadata": {
    "collapsed": false
   },
   "outputs": [
    {
     "name": "stdout",
     "output_type": "stream",
     "text": [
      "216/216 [==============================] - 0s     \n"
     ]
    }
   ],
   "source": [
    "p1_result = model.predict_proba(X_pred)"
   ]
  },
  {
   "cell_type": "code",
   "execution_count": 45,
   "metadata": {
    "collapsed": false
   },
   "outputs": [
    {
     "data": {
      "text/plain": [
       "array([[  9.71681595e-01,   2.83184443e-02],\n",
       "       [  9.92700160e-01,   7.29986513e-03],\n",
       "       [  2.89261460e-01,   7.10738540e-01],\n",
       "       [  9.42658246e-01,   5.73417395e-02],\n",
       "       [  9.99994397e-01,   5.64654420e-06],\n",
       "       [  9.99566495e-01,   4.33540583e-04],\n",
       "       [  9.99931216e-01,   6.87271386e-05],\n",
       "       [  9.71330464e-01,   2.86695138e-02],\n",
       "       [  9.99580085e-01,   4.19903372e-04],\n",
       "       [  9.99998212e-01,   1.79230540e-06],\n",
       "       [  9.99678016e-01,   3.22042673e-04],\n",
       "       [  9.33434606e-01,   6.65653497e-02],\n",
       "       [  4.81745452e-01,   5.18254638e-01],\n",
       "       [  8.80189955e-01,   1.19810045e-01],\n",
       "       [  9.87122416e-01,   1.28775844e-02],\n",
       "       [  9.95598555e-01,   4.40145191e-03],\n",
       "       [  2.42862016e-01,   7.57138073e-01],\n",
       "       [  2.66449362e-01,   7.33550668e-01],\n",
       "       [  9.99070883e-01,   9.29105154e-04],\n",
       "       [  9.59071279e-01,   4.09287326e-02],\n",
       "       [  4.41505900e-03,   9.95584965e-01],\n",
       "       [  9.60485578e-01,   3.95143963e-02],\n",
       "       [  9.98903036e-01,   1.09695108e-03],\n",
       "       [  9.99999762e-01,   2.05186296e-07],\n",
       "       [  2.51891185e-02,   9.74810839e-01],\n",
       "       [  9.99978781e-01,   2.12263021e-05],\n",
       "       [  1.91025948e-03,   9.98089731e-01],\n",
       "       [  9.99997973e-01,   2.02681076e-06],\n",
       "       [  9.65651751e-01,   3.43482643e-02],\n",
       "       [  5.92786297e-02,   9.40721333e-01],\n",
       "       [  9.99477565e-01,   5.22468530e-04],\n",
       "       [  9.98141289e-01,   1.85865932e-03],\n",
       "       [  9.99993801e-01,   6.25123585e-06],\n",
       "       [  9.99246836e-01,   7.53192406e-04],\n",
       "       [  6.08938634e-01,   3.91061366e-01],\n",
       "       [  9.98467505e-01,   1.53250247e-03],\n",
       "       [  5.30906081e-01,   4.69093889e-01],\n",
       "       [  1.71698615e-01,   8.28301370e-01],\n",
       "       [  1.57948881e-02,   9.84205067e-01],\n",
       "       [  9.81166780e-01,   1.88332796e-02],\n",
       "       [  9.99773324e-01,   2.26678021e-04],\n",
       "       [  1.08313316e-03,   9.98916864e-01],\n",
       "       [  9.89631236e-01,   1.03687830e-02],\n",
       "       [  9.98977304e-01,   1.02276821e-03],\n",
       "       [  9.99952197e-01,   4.78088150e-05],\n",
       "       [  9.99994040e-01,   5.94415405e-06],\n",
       "       [  9.87736940e-01,   1.22630298e-02],\n",
       "       [  9.99609053e-01,   3.91018344e-04],\n",
       "       [  9.95982289e-01,   4.01775306e-03],\n",
       "       [  9.17323709e-01,   8.26763287e-02],\n",
       "       [  9.94101465e-01,   5.89853479e-03],\n",
       "       [  7.73149848e-01,   2.26850107e-01],\n",
       "       [  9.95107293e-01,   4.89276694e-03],\n",
       "       [  6.08938634e-01,   3.91061366e-01],\n",
       "       [  2.08829626e-01,   7.91170299e-01],\n",
       "       [  7.46800065e-01,   2.53199875e-01],\n",
       "       [  9.16661620e-01,   8.33383501e-02],\n",
       "       [  5.66148818e-01,   4.33851182e-01],\n",
       "       [  9.69623208e-01,   3.03768218e-02],\n",
       "       [  8.89899194e-01,   1.10100821e-01],\n",
       "       [  9.99992251e-01,   7.70644237e-06],\n",
       "       [  9.99990463e-01,   9.48687466e-06],\n",
       "       [  9.99975324e-01,   2.46312648e-05],\n",
       "       [  9.79445040e-01,   2.05549672e-02],\n",
       "       [  9.98663545e-01,   1.33644277e-03],\n",
       "       [  9.99861121e-01,   1.38906209e-04],\n",
       "       [  9.97911513e-01,   2.08848109e-03],\n",
       "       [  6.39314175e-01,   3.60685855e-01],\n",
       "       [  4.81820285e-01,   5.18179715e-01],\n",
       "       [  9.99372900e-01,   6.27164496e-04],\n",
       "       [  6.66422725e-01,   3.33577275e-01],\n",
       "       [  9.99932170e-01,   6.78387951e-05],\n",
       "       [  5.32584786e-01,   4.67415184e-01],\n",
       "       [  9.92214143e-01,   7.78589863e-03],\n",
       "       [  9.99316573e-01,   6.83481921e-04],\n",
       "       [  6.08938634e-01,   3.91061366e-01],\n",
       "       [  9.99992490e-01,   7.55143037e-06],\n",
       "       [  3.70582759e-01,   6.29417300e-01],\n",
       "       [  9.96638417e-01,   3.36158602e-03],\n",
       "       [  2.21138433e-01,   7.78861582e-01],\n",
       "       [  9.94881988e-01,   5.11797611e-03],\n",
       "       [  9.95498180e-01,   4.50180005e-03],\n",
       "       [  9.99939084e-01,   6.09608178e-05],\n",
       "       [  2.05175318e-02,   9.79482472e-01],\n",
       "       [  9.95907784e-01,   4.09218529e-03],\n",
       "       [  9.67766345e-02,   9.03223395e-01],\n",
       "       [  6.08938634e-01,   3.91061366e-01],\n",
       "       [  7.63222901e-03,   9.92367804e-01],\n",
       "       [  9.99961615e-01,   3.84193809e-05],\n",
       "       [  6.08938634e-01,   3.91061366e-01],\n",
       "       [  9.99987721e-01,   1.22546335e-05],\n",
       "       [  6.50613606e-02,   9.34938669e-01],\n",
       "       [  9.94773328e-01,   5.22668147e-03],\n",
       "       [  9.97242928e-01,   2.75708875e-03],\n",
       "       [  9.86058056e-01,   1.39419632e-02],\n",
       "       [  7.33654559e-01,   2.66345382e-01],\n",
       "       [  9.74328876e-01,   2.56711468e-02],\n",
       "       [  9.68809903e-01,   3.11901364e-02],\n",
       "       [  9.99844193e-01,   1.55815564e-04],\n",
       "       [  9.86846983e-01,   1.31529840e-02],\n",
       "       [  9.99988675e-01,   1.12978332e-05],\n",
       "       [  7.68431604e-01,   2.31568441e-01],\n",
       "       [  9.99999642e-01,   4.02940771e-07],\n",
       "       [  1.00000000e+00,   8.27271973e-10],\n",
       "       [  9.56766784e-01,   4.32331562e-02],\n",
       "       [  9.99837041e-01,   1.62911820e-04],\n",
       "       [  7.19725609e-01,   2.80274361e-01],\n",
       "       [  2.08276790e-02,   9.79172289e-01],\n",
       "       [  9.96321321e-01,   3.67874326e-03],\n",
       "       [  9.57027256e-01,   4.29727063e-02],\n",
       "       [  1.44595345e-02,   9.85540450e-01],\n",
       "       [  9.97247398e-01,   2.75261770e-03],\n",
       "       [  6.08938634e-01,   3.91061366e-01],\n",
       "       [  9.97628033e-01,   2.37195822e-03],\n",
       "       [  3.04709673e-01,   6.95290327e-01],\n",
       "       [  3.35493743e-01,   6.64506257e-01],\n",
       "       [  9.99894142e-01,   1.05787673e-04],\n",
       "       [  2.45286990e-02,   9.75471258e-01],\n",
       "       [  9.99616623e-01,   3.83337261e-04],\n",
       "       [  9.99820530e-01,   1.79451279e-04],\n",
       "       [  9.99271333e-01,   7.28637911e-04],\n",
       "       [  9.89361942e-01,   1.06380265e-02],\n",
       "       [  6.08938634e-01,   3.91061366e-01],\n",
       "       [  9.78390872e-01,   2.16091517e-02],\n",
       "       [  9.82920706e-01,   1.70792658e-02],\n",
       "       [  3.42905939e-01,   6.57094002e-01],\n",
       "       [  9.98233676e-01,   1.76634535e-03],\n",
       "       [  9.99691844e-01,   3.08159972e-04],\n",
       "       [  9.99436915e-01,   5.63114532e-04],\n",
       "       [  9.95751143e-01,   4.24879324e-03],\n",
       "       [  9.99910235e-01,   8.97026839e-05],\n",
       "       [  9.97583628e-01,   2.41634971e-03],\n",
       "       [  9.88967478e-01,   1.10325869e-02],\n",
       "       [  8.74821038e-04,   9.99125183e-01],\n",
       "       [  9.98319805e-01,   1.68016250e-03],\n",
       "       [  1.70043181e-03,   9.98299539e-01],\n",
       "       [  9.97129977e-01,   2.87009799e-03],\n",
       "       [  8.98756564e-01,   1.01243503e-01],\n",
       "       [  6.55309796e-01,   3.44690233e-01],\n",
       "       [  9.88749504e-01,   1.12504670e-02],\n",
       "       [  1.35812238e-02,   9.86418784e-01],\n",
       "       [  9.99992371e-01,   7.59542945e-06],\n",
       "       [  9.98664975e-01,   1.33501424e-03],\n",
       "       [  9.93798196e-01,   6.20182417e-03],\n",
       "       [  6.08938634e-01,   3.91061366e-01],\n",
       "       [  9.99975324e-01,   2.46974560e-05],\n",
       "       [  4.27390076e-02,   9.57260966e-01],\n",
       "       [  9.99145389e-01,   8.54598358e-04],\n",
       "       [  1.46739393e-01,   8.53260577e-01],\n",
       "       [  9.99679089e-01,   3.20898864e-04],\n",
       "       [  9.92689431e-01,   7.31060840e-03],\n",
       "       [  9.97880101e-01,   2.11998238e-03],\n",
       "       [  9.99798000e-01,   2.02008436e-04],\n",
       "       [  9.51875329e-01,   4.81246337e-02],\n",
       "       [  4.55829173e-01,   5.44170856e-01],\n",
       "       [  5.32256663e-01,   4.67743337e-01],\n",
       "       [  9.95349348e-01,   4.65071993e-03],\n",
       "       [  6.59194775e-03,   9.93408084e-01],\n",
       "       [  5.21396220e-01,   4.78603810e-01],\n",
       "       [  9.98975873e-01,   1.02420256e-03],\n",
       "       [  3.51454578e-02,   9.64854479e-01],\n",
       "       [  9.80497599e-01,   1.95023660e-02],\n",
       "       [  9.72788930e-01,   2.72110216e-02],\n",
       "       [  9.48338211e-01,   5.16618565e-02],\n",
       "       [  9.99895930e-01,   1.04019920e-04],\n",
       "       [  9.69250381e-01,   3.07495873e-02],\n",
       "       [  9.99975801e-01,   2.41483467e-05],\n",
       "       [  9.99857664e-01,   1.42318357e-04],\n",
       "       [  7.55125940e-01,   2.44874105e-01],\n",
       "       [  6.84560418e-01,   3.15439582e-01],\n",
       "       [  9.96848762e-01,   3.15128500e-03],\n",
       "       [  9.99901414e-01,   9.86162922e-05],\n",
       "       [  3.53851408e-01,   6.46148622e-01],\n",
       "       [  7.45059967e-01,   2.54940033e-01],\n",
       "       [  9.69670177e-01,   3.03298384e-02],\n",
       "       [  9.36375916e-01,   6.36240244e-02],\n",
       "       [  8.68051112e-01,   1.31948918e-01],\n",
       "       [  9.07765981e-03,   9.90922272e-01],\n",
       "       [  9.97793436e-01,   2.20660539e-03],\n",
       "       [  5.16807428e-03,   9.94831920e-01],\n",
       "       [  9.41514492e-01,   5.84855005e-02],\n",
       "       [  9.99881506e-01,   1.18472133e-04],\n",
       "       [  9.78065789e-01,   2.19342466e-02],\n",
       "       [  6.08938634e-01,   3.91061366e-01],\n",
       "       [  9.99880910e-01,   1.19026750e-04],\n",
       "       [  9.95509982e-01,   4.49004304e-03],\n",
       "       [  6.08938634e-01,   3.91061366e-01],\n",
       "       [  9.99999762e-01,   2.36427113e-07],\n",
       "       [  9.95238423e-01,   4.76153148e-03],\n",
       "       [  5.13109148e-01,   4.86890823e-01],\n",
       "       [  9.95554984e-01,   4.44501266e-03],\n",
       "       [  9.95067835e-01,   4.93211206e-03],\n",
       "       [  5.37108719e-01,   4.62891310e-01],\n",
       "       [  9.99999762e-01,   2.83623564e-07],\n",
       "       [  9.99693990e-01,   3.06022703e-04],\n",
       "       [  7.26204552e-03,   9.92737949e-01],\n",
       "       [  9.87555921e-01,   1.24441022e-02],\n",
       "       [  9.99964237e-01,   3.57420395e-05],\n",
       "       [  9.93878186e-01,   6.12179749e-03],\n",
       "       [  8.95163357e-01,   1.04836650e-01],\n",
       "       [  9.61552799e-01,   3.84471491e-02],\n",
       "       [  1.80438936e-01,   8.19561064e-01],\n",
       "       [  9.92472291e-01,   7.52772624e-03],\n",
       "       [  9.86942887e-01,   1.30570736e-02],\n",
       "       [  9.99989390e-01,   1.06241760e-05],\n",
       "       [  9.93157327e-01,   6.84265234e-03],\n",
       "       [  9.99491453e-01,   5.08554629e-04],\n",
       "       [  9.61668134e-01,   3.83318402e-02],\n",
       "       [  8.65127623e-01,   1.34872332e-01],\n",
       "       [  9.99999404e-01,   5.58821398e-07],\n",
       "       [  9.95552838e-01,   4.44710441e-03],\n",
       "       [  9.21042502e-01,   7.89574832e-02],\n",
       "       [  9.16039407e-01,   8.39605480e-02],\n",
       "       [  9.95104909e-01,   4.89510968e-03],\n",
       "       [  6.08938634e-01,   3.91061366e-01],\n",
       "       [  9.94625747e-01,   5.37422160e-03]], dtype=float32)"
      ]
     },
     "execution_count": 45,
     "metadata": {},
     "output_type": "execute_result"
    }
   ],
   "source": [
    "p1_result"
   ]
  },
  {
   "cell_type": "code",
   "execution_count": null,
   "metadata": {
    "collapsed": true
   },
   "outputs": [],
   "source": []
  }
 ],
 "metadata": {
  "kernelspec": {
   "display_name": "Python 2",
   "language": "python",
   "name": "python2"
  },
  "language_info": {
   "codemirror_mode": {
    "name": "ipython",
    "version": 2
   },
   "file_extension": ".py",
   "mimetype": "text/x-python",
   "name": "python",
   "nbconvert_exporter": "python",
   "pygments_lexer": "ipython2",
   "version": "2.7.12"
  }
 },
 "nbformat": 4,
 "nbformat_minor": 0
}
